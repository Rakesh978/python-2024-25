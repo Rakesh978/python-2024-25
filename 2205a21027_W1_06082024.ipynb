{
  "nbformat": 4,
  "nbformat_minor": 0,
  "metadata": {
    "colab": {
      "provenance": [],
      "authorship_tag": "ABX9TyMJPQMJVdgjTTC76EdBa/Jv",
      "include_colab_link": true
    },
    "kernelspec": {
      "name": "python3",
      "display_name": "Python 3"
    },
    "language_info": {
      "name": "python"
    }
  },
  "cells": [
    {
      "cell_type": "markdown",
      "metadata": {
        "id": "view-in-github",
        "colab_type": "text"
      },
      "source": [
        "<a href=\"https://colab.research.google.com/github/Rakesh978/python-2024-25/blob/main/2205a21027_W1_06082024.ipynb\" target=\"_parent\"><img src=\"https://colab.research.google.com/assets/colab-badge.svg\" alt=\"Open In Colab\"/></a>"
      ]
    },
    {
      "cell_type": "markdown",
      "source": [
        "# ***hello world program***"
      ],
      "metadata": {
        "id": "DFXUECMiLTKW"
      }
    },
    {
      "cell_type": "code",
      "execution_count": 1,
      "metadata": {
        "colab": {
          "base_uri": "https://localhost:8080/"
        },
        "id": "7ow2LRf4GlMv",
        "outputId": "93d777e3-56ed-4b28-89a6-ca7ef8c66cfd"
      },
      "outputs": [
        {
          "output_type": "stream",
          "name": "stdout",
          "text": [
            "hello world\n"
          ]
        }
      ],
      "source": [
        "print(\"hello world\")"
      ]
    },
    {
      "cell_type": "markdown",
      "source": [
        "# Arthamatic **operations**"
      ],
      "metadata": {
        "id": "H1Dp4D1wMYpi"
      }
    },
    {
      "cell_type": "code",
      "source": [
        "print(\"2+2=\",2+2)"
      ],
      "metadata": {
        "colab": {
          "base_uri": "https://localhost:8080/"
        },
        "id": "YStBnNp2MMBB",
        "outputId": "46264d31-85b5-4f2a-bee8-b7b610a0e5a7"
      },
      "execution_count": 2,
      "outputs": [
        {
          "output_type": "stream",
          "name": "stdout",
          "text": [
            "2+2= 4\n"
          ]
        }
      ]
    },
    {
      "cell_type": "markdown",
      "source": [
        "#subtractin"
      ],
      "metadata": {
        "id": "sYNtvcPoNKuO"
      }
    },
    {
      "cell_type": "code",
      "source": [
        "print(\"20-10=\",20-10)"
      ],
      "metadata": {
        "colab": {
          "base_uri": "https://localhost:8080/"
        },
        "id": "TUpmKn_kNPN1",
        "outputId": "f26cf544-b039-45c8-d976-fa55349a1956"
      },
      "execution_count": 4,
      "outputs": [
        {
          "output_type": "stream",
          "name": "stdout",
          "text": [
            "20-10= 10\n"
          ]
        }
      ]
    },
    {
      "cell_type": "markdown",
      "source": [
        "# Mul"
      ],
      "metadata": {
        "id": "t43oRyrbNunO"
      }
    },
    {
      "cell_type": "code",
      "source": [
        "print(\"45*15=\",45*15)"
      ],
      "metadata": {
        "colab": {
          "base_uri": "https://localhost:8080/"
        },
        "id": "nlJ3rjhANw7G",
        "outputId": "6d77d6a8-7613-4280-dd51-73f04be1c5f8"
      },
      "execution_count": 5,
      "outputs": [
        {
          "output_type": "stream",
          "name": "stdout",
          "text": [
            "45*15= 675\n"
          ]
        }
      ]
    },
    {
      "cell_type": "markdown",
      "source": [
        "# Div"
      ],
      "metadata": {
        "id": "l5c--d_UN-Dl"
      }
    },
    {
      "cell_type": "code",
      "source": [
        "print(\"125/25\",125/25)"
      ],
      "metadata": {
        "colab": {
          "base_uri": "https://localhost:8080/"
        },
        "id": "CfWmTahJOBvK",
        "outputId": "234a6b25-7da3-4ff7-cb47-4f18b87d1ef9"
      },
      "execution_count": 6,
      "outputs": [
        {
          "output_type": "stream",
          "name": "stdout",
          "text": [
            "125/25 5.0\n"
          ]
        }
      ]
    },
    {
      "cell_type": "code",
      "source": [
        "a=25\n",
        "print(\"a=\",a)"
      ],
      "metadata": {
        "colab": {
          "base_uri": "https://localhost:8080/"
        },
        "id": "4TTV0LkUPD05",
        "outputId": "3d74e0bf-7a00-4096-b624-3d3c0536b080"
      },
      "execution_count": 7,
      "outputs": [
        {
          "output_type": "stream",
          "name": "stdout",
          "text": [
            "a= 25\n"
          ]
        }
      ]
    },
    {
      "cell_type": "code",
      "source": [
        "print(type(a))"
      ],
      "metadata": {
        "colab": {
          "base_uri": "https://localhost:8080/"
        },
        "id": "KIG2KVDUPf60",
        "outputId": "c35794dc-9745-4ab9-aa8e-448db7bcb790"
      },
      "execution_count": 8,
      "outputs": [
        {
          "output_type": "stream",
          "name": "stdout",
          "text": [
            "<class 'int'>\n"
          ]
        }
      ]
    },
    {
      "cell_type": "code",
      "source": [
        "a=25.3\n",
        "print(\"a\",a)\n",
        "print(type(a))"
      ],
      "metadata": {
        "colab": {
          "base_uri": "https://localhost:8080/"
        },
        "id": "vGNVQ8tOPwaX",
        "outputId": "2cfdeee2-467d-4eab-b237-b306d7e19119"
      },
      "execution_count": 9,
      "outputs": [
        {
          "output_type": "stream",
          "name": "stdout",
          "text": [
            "a 25.3\n",
            "<class 'float'>\n"
          ]
        }
      ]
    },
    {
      "cell_type": "code",
      "source": [
        "a=\"Rakesh\"\n",
        "print(type(a))"
      ],
      "metadata": {
        "colab": {
          "base_uri": "https://localhost:8080/"
        },
        "id": "yQ5VWEDcQBHY",
        "outputId": "cd98cb2b-0797-4623-82ac-ee5c97c28413"
      },
      "execution_count": 11,
      "outputs": [
        {
          "output_type": "stream",
          "name": "stdout",
          "text": [
            "<class 'str'>\n"
          ]
        }
      ]
    },
    {
      "cell_type": "code",
      "source": [
        "a=20\n",
        "b=15\n",
        "print(\"a+b=\",a+b)\n",
        "print(\"a-b=\",a-b)\n",
        "print(\"a*b=\",a*b)\n",
        "print(\"a/b=\",a/b)\n",
        "print(\"a%b=\",a%b)\n"
      ],
      "metadata": {
        "colab": {
          "base_uri": "https://localhost:8080/"
        },
        "id": "By4xsjUvQWzV",
        "outputId": "c62509c4-113b-4853-a2e9-fdb8285d5757"
      },
      "execution_count": 12,
      "outputs": [
        {
          "output_type": "stream",
          "name": "stdout",
          "text": [
            "a+b= 35\n",
            "a-b= 5\n",
            "a*b= 300\n",
            "a/b= 1.3333333333333333\n",
            "a%b= 5\n"
          ]
        }
      ]
    }
  ]
}